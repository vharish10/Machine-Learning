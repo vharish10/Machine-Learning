{
 "cells": [
  {
   "cell_type": "markdown",
   "metadata": {},
   "source": [
    "A2. Use cross-validation techniques (RandomizedSearchCV()) technique to tune the hyperparameters for your perceptron and MLP networks"
   ]
  }
 ],
 "metadata": {
  "language_info": {
   "name": "python"
  }
 },
 "nbformat": 4,
 "nbformat_minor": 2
}
