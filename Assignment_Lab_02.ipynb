{
 "cells": [
  {
   "cell_type": "markdown",
   "metadata": {},
   "source": []
  },
  {
   "cell_type": "markdown",
   "metadata": {},
   "source": [
    "V.Harish\n",
    "BL.EN.U4AIE22063\n",
    "Lab-02(06-02-2024)"
   ]
  },
  {
   "cell_type": "markdown",
   "metadata": {},
   "source": [
    "1.Write a function to calculate the Euclidean distance and Manhattan distance between two vectors. The vectors dimension is variable. Please don’t use any distance calculation functions available in Python."
   ]
  },
  {
   "cell_type": "code",
   "execution_count": 19,
   "metadata": {},
   "outputs": [
    {
     "name": "stdout",
     "output_type": "stream",
     "text": [
      "Euclidean Distance: 35.35533905932738\n",
      "Manhottan Distance: 52\n"
     ]
    }
   ],
   "source": [
    "def calculate_distance(X,Y):   \n",
    "    if len(X)!=len(Y):      #base condition for distance calculation\n",
    "        ValueError(\"Both must have same dimensions\")\n",
    "        \n",
    "    Euclidean=Euclidean_distance(X,Y)\n",
    "    Manhottan=Manhottan_distance(X,Y)\n",
    "    return [Euclidean,Manhottan]\n",
    "\n",
    "def Euclidean_distance(X,Y):     #sqrt of summation of square of difference of actual and predicted values\n",
    "    sum_distance=0\n",
    "\n",
    "    for x,y in zip(X,Y):\n",
    "        sum_distance+=(x-y)**2   #square of the values\n",
    "    return sum_distance**0.5    #sqrt of the sum_ditance\n",
    "\n",
    "def Manhottan_distance(X,Y):        #summation of difference of actual and predicted values\n",
    "    sum1_distance=0\n",
    "        \n",
    "    for x,y in zip(X,Y):\n",
    "        sum1_distance+=abs(x-y)     #as the distances are always positive,use abs(absolute) difference\n",
    "    return sum1_distance\n",
    "\n",
    "X=[9,2,5]\n",
    "Y=[12,31,25]\n",
    "Distance=calculate_distance(X,Y)\n",
    "\n",
    "print(f\"Euclidean Distance: {Distance[0]}\")\n",
    "print(f\"Manhottan Distance: {Distance[1]}\")"
   ]
  },
  {
   "cell_type": "markdown",
   "metadata": {},
   "source": [
    "2.Write a function to implement k-NN classifier. k is a variable and based on that the count of neighbors should be selected."
   ]
  },
  {
   "cell_type": "code",
   "execution_count": 20,
   "metadata": {},
   "outputs": [],
   "source": [
    "import numpy as np\n",
    "from sklearn.neighbors import KNeighborsClassifier"
   ]
  },
  {
   "cell_type": "code",
   "execution_count": 21,
   "metadata": {},
   "outputs": [
    {
     "data": {
      "text/plain": [
       "'C'"
      ]
     },
     "execution_count": 21,
     "metadata": {},
     "output_type": "execute_result"
    }
   ],
   "source": [
    "def KnnClassifier(X,Y,k,New_point):\n",
    "    knn=KNeighborsClassifier(n_neighbors=k)     #creating an object of KNeighborsClassifier with 'k' as the value of n_neighbors parameter\n",
    "    knn.fit(X,Y)        # Fitting the model with the training data(X) and corresponding labels(Y)\n",
    "    return knn.predict(New_point)[0]\n",
    "\n",
    "X=np.array([[1,2,3],[4,5,6],[2,3,5],[7,3,1],[2,3,2],[1,2,3]])\n",
    "Y=np.array([\"A\",\"B\",\"C\",\"B\",\"A\",\"C\"])\n",
    "New_point=np.array([[5,4,8]])\n",
    "KnnClassifier(X,Y,4,New_point)"
   ]
  },
  {
   "cell_type": "markdown",
   "metadata": {},
   "source": [
    "3.Write a function to convert categorical variables to numeric using label encoding. Don’t use any existing functionalities."
   ]
  },
  {
   "cell_type": "code",
   "execution_count": 22,
   "metadata": {},
   "outputs": [
    {
     "data": {
      "text/plain": [
       "[0, 1, 2, 3, 4, 5]"
      ]
     },
     "execution_count": 22,
     "metadata": {},
     "output_type": "execute_result"
    }
   ],
   "source": [
    "def Label_Encode(Data):\n",
    "    Classes=[]\n",
    "    for data in Data:\n",
    "        if data not in Classes:     #check if the class already exist\n",
    "            Classes.append(data)        #if it doesnt exist,then add inorder to keep only unique class \n",
    "            \n",
    "    encode_data=[]\n",
    "    for data in Data:\n",
    "        index=Classes.index(data)       #index of the class in the list of unique classes\n",
    "        encode_data.append(index)       #assign the index to the corresponding data\n",
    "        \n",
    "    return encode_data\n",
    "        \n",
    "Data=[\"India\",\"Australia\",\"Japan\",\"China\",\"US\",\"Russia\"]\n",
    "Label_Encode(Data)\n",
    "\n",
    "    "
   ]
  },
  {
   "cell_type": "markdown",
   "metadata": {},
   "source": [
    "4.Write a function to convert categorical variables to numeric using One-Hotencoding. Don’t use any existing functionalities."
   ]
  },
  {
   "cell_type": "code",
   "execution_count": 23,
   "metadata": {},
   "outputs": [
    {
     "data": {
      "text/plain": [
       "[array([1., 0., 0., 0.]),\n",
       " array([0., 1., 0., 0.]),\n",
       " array([0., 0., 1., 0.]),\n",
       " array([0., 0., 0., 1.]),\n",
       " array([0., 1., 0., 0.]),\n",
       " array([0., 0., 0., 1.]),\n",
       " array([1., 0., 0., 0.]),\n",
       " array([1., 0., 0., 0.])]"
      ]
     },
     "execution_count": 23,
     "metadata": {},
     "output_type": "execute_result"
    }
   ],
   "source": [
    "def One_hot_Encode(Data,Classes):\n",
    "    n=len(Classes)\n",
    "    i=0\n",
    "    encoded_data=[]\n",
    "    for data in Data:\n",
    "        encode_data=np.zeros(n)\n",
    "        if data in Classes:\n",
    "            index=Classes.index(data)   #Find the index of the data point in the list of classes\n",
    "            encode_data[index]=1        #Assign the corresponding index in the one-hot encoded array to 1\n",
    "            encoded_data.append(encode_data)        #one-hot encoding for the particular class\n",
    "        i+=1\n",
    "        \n",
    "    return encoded_data\n",
    "\n",
    "Data=[\"India\",\"Australia\",\"US\",\"China\",\"Australia\",\"China\",\"India\",\"India\"]\n",
    "Classes=[\"India\",\"Australia\",\"US\",\"China\"]\n",
    "One_hot_Encode(Data,Classes)"
   ]
  }
 ],
 "metadata": {
  "kernelspec": {
   "display_name": ".venv",
   "language": "python",
   "name": "python3"
  },
  "language_info": {
   "codemirror_mode": {
    "name": "ipython",
    "version": 3
   },
   "file_extension": ".py",
   "mimetype": "text/x-python",
   "name": "python",
   "nbconvert_exporter": "python",
   "pygments_lexer": "ipython3",
   "version": "3.11.4"
  }
 },
 "nbformat": 4,
 "nbformat_minor": 2
}
