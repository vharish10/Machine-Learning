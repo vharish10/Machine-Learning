{
 "cells": [
  {
   "cell_type": "markdown",
   "metadata": {},
   "source": [
    "A1. Write your own module for detecting the feature/attributefor the root note of a Decision Tree. Use Information gain as the impurity measure for identifying the root node. Assume that the features are categoricalor could be converted to categorical by binning. "
   ]
  }
 ],
 "metadata": {
  "language_info": {
   "name": "python"
  }
 },
 "nbformat": 4,
 "nbformat_minor": 2
}
