{
 "cells": [
  {
   "cell_type": "markdown",
   "metadata": {},
   "source": [
    "Name:V.Harish\n",
    "reg No:AIE22063"
   ]
  },
  {
   "cell_type": "markdown",
   "metadata": {},
   "source": []
  },
  {
   "cell_type": "code",
   "execution_count": 1,
   "metadata": {},
   "outputs": [],
   "source": [
    "import matplotlib.pyplot as plt \n",
    "import numpy as np\n",
    "import pandas as pd\n",
    "import openpyxl\n",
    "\n",
    "df=pd.read_excel(\"C:\\\\Users\\\\HarishVReddy\\\\Downloads\\\\Traing_Data_analysis 1.xlsx\")\n"
   ]
  },
  {
   "cell_type": "markdown",
   "metadata": {},
   "source": [
    "A1. Evaluate the intraclass spread and interclass distances between the classes in your dataset. If your data deals with multiple classes, you can take any two classes. Steps below (refer below diagram for understanding):•Calculate the mean for each class (also called as class centroid)(Suggestion: You may use numpy.mean()function for finding the average vector for all vectors in a given class. Please define the axis property appropriatelyto use this function.EX: feat_vecs.mean(axis=0))\n",
    "•Calculate spread (standard deviation) for each class(Suggestion: You may use numpy.std()function for finding the standard deviationvector for all vectors in a given class. Please define the axis property appropriately to use this function.)\n",
    "•Calculate the distance between mean vectors between classes(Suggestion: numpy.linalg.norm(centroid1 –centroid2)gives the Euclidean distance between two centroids.)"
   ]
  },
  {
   "cell_type": "code",
   "execution_count": 2,
   "metadata": {},
   "outputs": [
    {
     "name": "stdout",
     "output_type": "stream",
     "text": [
      "Centroid of Class 1: 0.9767086330935251, Spread: 0.04226877001138608\n",
      "Centroid of Class 2: 0.600436046511628, Spread: 0.18493347792865555\n",
      "Interclass Distance: 0.3762725865818971\n"
     ]
    }
   ],
   "source": [
    "mean0fgrade = df['grade'].mean()\n",
    "class1_feat_vecs = np.array([])\n",
    "class2_feat_vecs = np.array([])\n",
    " \n",
    "# Create a new column in df based on the condition\n",
    "df['results'] = np.where(df['grade'] > mean0fgrade, 1, 0)\n",
    " \n",
    "# Append values to class1_feat_vecs and class2_feat_vecs based on the new column\n",
    "class1_feat_vecs = np.append(class1_feat_vecs, df[df['results'] == 1]['grade'].values)\n",
    "class2_feat_vecs = np.append(class2_feat_vecs, df[df['results'] == 0]['grade'].values)\n",
    " \n",
    "centroid1 = class1_feat_vecs.mean(axis=0)\n",
    "centroid2 = class2_feat_vecs.mean(axis=0)\n",
    " \n",
    "# Calculate the spread (standard deviation) for each class\n",
    "spread1 = class1_feat_vecs.std(axis=0)\n",
    "spread2 = class2_feat_vecs.std(axis=0)\n",
    " \n",
    "# Calculate the distance between the centroids of the two classes\n",
    "interclass_distance = np.linalg.norm(centroid1 - centroid2)\n",
    " \n",
    "print(f\"Centroid of Class 1: {centroid1}, Spread: {spread1}\")\n",
    "print(f\"Centroid of Class 2: {centroid2}, Spread: {spread2}\")\n",
    "print(f\"Interclass Distance: {interclass_distance}\")\n",
    "result = df['results']  "
   ]
  },
  {
   "cell_type": "code",
   "execution_count": 3,
   "metadata": {},
   "outputs": [
    {
     "data": {
      "image/png": "[encoded data removed]",
      "text/plain": [
       "<Figure size 640x480 with 1 Axes>"
      ]
     },
     "metadata": {},
     "output_type": "display_data"
    },
    {
     "data": {
      "text/html": [
       "<div>\n",
       "<style scoped>\n",
       "    .dataframe tbody tr th:only-of-type {\n",
       "        vertical-align: middle;\n",
       "    }\n",
       "\n",
       "    .dataframe tbody tr th {\n",
       "        vertical-align: top;\n",
       "    }\n",
       "\n",
       "    .dataframe thead th {\n",
       "        text-align: right;\n",
       "    }\n",
       "</style>\n",
       "<table border=\"1\" class=\"dataframe\">\n",
       "  <thead>\n",
       "    <tr style=\"text-align: right;\">\n",
       "      <th></th>\n",
       "      <th>question</th>\n",
       "      <th>model_answer</th>\n",
       "      <th>student_answer</th>\n",
       "      <th>grade</th>\n",
       "      <th>source</th>\n",
       "      <th>ID</th>\n",
       "      <th>results</th>\n",
       "      <th>Result</th>\n",
       "    </tr>\n",
       "  </thead>\n",
       "  <tbody>\n",
       "    <tr>\n",
       "      <th>0</th>\n",
       "      <td>what is a recursive function?</td>\n",
       "      <td>a function that calls itself.</td>\n",
       "      <td>it is a function that calls itself.   it runs ...</td>\n",
       "      <td>1.0</td>\n",
       "      <td>short_answer_grading.csv</td>\n",
       "      <td>0</td>\n",
       "      <td>1</td>\n",
       "      <td>0</td>\n",
       "    </tr>\n",
       "    <tr>\n",
       "      <th>1</th>\n",
       "      <td>what are the similarities between iteration an...</td>\n",
       "      <td>they both involve repetition; they both have t...</td>\n",
       "      <td>both based on control statement, involve repet...</td>\n",
       "      <td>1.0</td>\n",
       "      <td>short_answer_grading.csv</td>\n",
       "      <td>0</td>\n",
       "      <td>1</td>\n",
       "      <td>0</td>\n",
       "    </tr>\n",
       "    <tr>\n",
       "      <th>2</th>\n",
       "      <td>what is a queue?</td>\n",
       "      <td>a data structure that can store elements, whic...</td>\n",
       "      <td>is a particular kind of collection in which th...</td>\n",
       "      <td>1.0</td>\n",
       "      <td>short_answer_grading.csv</td>\n",
       "      <td>0</td>\n",
       "      <td>1</td>\n",
       "      <td>0</td>\n",
       "    </tr>\n",
       "    <tr>\n",
       "      <th>3</th>\n",
       "      <td>what is a pointer?</td>\n",
       "      <td>the address of a location in memory.</td>\n",
       "      <td>a pointer is a variable that holds the address...</td>\n",
       "      <td>1.0</td>\n",
       "      <td>short_answer_grading.csv</td>\n",
       "      <td>0</td>\n",
       "      <td>1</td>\n",
       "      <td>0</td>\n",
       "    </tr>\n",
       "    <tr>\n",
       "      <th>4</th>\n",
       "      <td>what is the role of a header-file?</td>\n",
       "      <td>to store a class interface, including data mem...</td>\n",
       "      <td>to separate the source code from the main func...</td>\n",
       "      <td>0.7</td>\n",
       "      <td>short_answer_grading.csv</td>\n",
       "      <td>0</td>\n",
       "      <td>0</td>\n",
       "      <td>1</td>\n",
       "    </tr>\n",
       "  </tbody>\n",
       "</table>\n",
       "</div>"
      ],
      "text/plain": [
       "                                            question  \\\n",
       "0                      what is a recursive function?   \n",
       "1  what are the similarities between iteration an...   \n",
       "2                                   what is a queue?   \n",
       "3                                 what is a pointer?   \n",
       "4                 what is the role of a header-file?   \n",
       "\n",
       "                                        model_answer  \\\n",
       "0                      a function that calls itself.   \n",
       "1  they both involve repetition; they both have t...   \n",
       "2  a data structure that can store elements, whic...   \n",
       "3               the address of a location in memory.   \n",
       "4  to store a class interface, including data mem...   \n",
       "\n",
       "                                      student_answer  grade  \\\n",
       "0  it is a function that calls itself.   it runs ...    1.0   \n",
       "1  both based on control statement, involve repet...    1.0   \n",
       "2  is a particular kind of collection in which th...    1.0   \n",
       "3  a pointer is a variable that holds the address...    1.0   \n",
       "4  to separate the source code from the main func...    0.7   \n",
       "\n",
       "                     source  ID  results  Result  \n",
       "0  short_answer_grading.csv   0        1       0  \n",
       "1  short_answer_grading.csv   0        1       0  \n",
       "2  short_answer_grading.csv   0        1       0  \n",
       "3  short_answer_grading.csv   0        1       0  \n",
       "4  short_answer_grading.csv   0        0       1  "
      ]
     },
     "execution_count": 3,
     "metadata": {},
     "output_type": "execute_result"
    }
   ],
   "source": [
    "import seaborn as sns\n",
    "\n",
    "mean=np.mean(df['grade'])\n",
    "df['Result']=np.where(df[\"grade\"]>mean ,0,1)\n",
    "sns.scatterplot(x='Result', y='grade', data=df)\n",
    "\n",
    "plt.show()\n",
    "df.head()"
   ]
  },
  {
   "cell_type": "markdown",
   "metadata": {},
   "source": [
    "A4. Divide dataset in your project into two parts –train & test set."
   ]
  },
  {
   "cell_type": "code",
   "execution_count": 17,
   "metadata": {},
   "outputs": [],
   "source": [
    "from sklearn.model_selection import train_test_split\n",
    "from sklearn.neighbors import KNeighborsClassifier\n",
    "grad=df['grade']\n",
    "\n",
    "X_train,X_test,Y_train,Y_test = train_test_split(grad,result, test_size=0.01, shuffle=True)\n",
    "\n",
    "grad1=np.reshape(grad,(-1,1))\n",
    "\n",
    "#Training data\n",
    "X_train1=np.reshape(X_train,(-1,1))\n",
    "Y_train1=np.reshape(Y_train,(-1,1))\n",
    "\n",
    "#Testing data\n",
    "X_test1=np.reshape(X_test,(-1,1))\n",
    "Y_test1=np.reshape(Y_test,(-1,1))"
   ]
  },
  {
   "cell_type": "markdown",
   "metadata": {},
   "source": [
    "A5. Train a kNN classifier (k =3)using the training set obtained from above exercise."
   ]
  },
  {
   "cell_type": "code",
   "execution_count": 18,
   "metadata": {},
   "outputs": [
    {
     "data": {
      "text/html": [
       "<style>#sk-container-id-3 {color: black;}#sk-container-id-3 pre{padding: 0;}#sk-container-id-3 div.sk-toggleable {background-color: white;}#sk-container-id-3 label.sk-toggleable__label {cursor: pointer;display: block;width: 100%;margin-bottom: 0;padding: 0.3em;box-sizing: border-box;text-align: center;}#sk-container-id-3 label.sk-toggleable__label-arrow:before {content: \"▸\";float: left;margin-right: 0.25em;color: #696969;}#sk-container-id-3 label.sk-toggleable__label-arrow:hover:before {color: black;}#sk-container-id-3 div.sk-estimator:hover label.sk-toggleable__label-arrow:before {color: black;}#sk-container-id-3 div.sk-toggleable__content {max-height: 0;max-width: 0;overflow: hidden;text-align: left;background-color: #f0f8ff;}#sk-container-id-3 div.sk-toggleable__content pre {margin: 0.2em;color: black;border-radius: 0.25em;background-color: #f0f8ff;}#sk-container-id-3 input.sk-toggleable__control:checked~div.sk-toggleable__content {max-height: 200px;max-width: 100%;overflow: auto;}#sk-container-id-3 input.sk-toggleable__control:checked~label.sk-toggleable__label-arrow:before {content: \"▾\";}#sk-container-id-3 div.sk-estimator input.sk-toggleable__control:checked~label.sk-toggleable__label {background-color: #d4ebff;}#sk-container-id-3 div.sk-label input.sk-toggleable__control:checked~label.sk-toggleable__label {background-color: #d4ebff;}#sk-container-id-3 input.sk-hidden--visually {border: 0;clip: rect(1px 1px 1px 1px);clip: rect(1px, 1px, 1px, 1px);height: 1px;margin: -1px;overflow: hidden;padding: 0;position: absolute;width: 1px;}#sk-container-id-3 div.sk-estimator {font-family: monospace;background-color: #f0f8ff;border: 1px dotted black;border-radius: 0.25em;box-sizing: border-box;margin-bottom: 0.5em;}#sk-container-id-3 div.sk-estimator:hover {background-color: #d4ebff;}#sk-container-id-3 div.sk-parallel-item::after {content: \"\";width: 100%;border-bottom: 1px solid gray;flex-grow: 1;}#sk-container-id-3 div.sk-label:hover label.sk-toggleable__label {background-color: #d4ebff;}#sk-container-id-3 div.sk-serial::before {content: \"\";position: absolute;border-left: 1px solid gray;box-sizing: border-box;top: 0;bottom: 0;left: 50%;z-index: 0;}#sk-container-id-3 div.sk-serial {display: flex;flex-direction: column;align-items: center;background-color: white;padding-right: 0.2em;padding-left: 0.2em;position: relative;}#sk-container-id-3 div.sk-item {position: relative;z-index: 1;}#sk-container-id-3 div.sk-parallel {display: flex;align-items: stretch;justify-content: center;background-color: white;position: relative;}#sk-container-id-3 div.sk-item::before, #sk-container-id-3 div.sk-parallel-item::before {content: \"\";position: absolute;border-left: 1px solid gray;box-sizing: border-box;top: 0;bottom: 0;left: 50%;z-index: -1;}#sk-container-id-3 div.sk-parallel-item {display: flex;flex-direction: column;z-index: 1;position: relative;background-color: white;}#sk-container-id-3 div.sk-parallel-item:first-child::after {align-self: flex-end;width: 50%;}#sk-container-id-3 div.sk-parallel-item:last-child::after {align-self: flex-start;width: 50%;}#sk-container-id-3 div.sk-parallel-item:only-child::after {width: 0;}#sk-container-id-3 div.sk-dashed-wrapped {border: 1px dashed gray;margin: 0 0.4em 0.5em 0.4em;box-sizing: border-box;padding-bottom: 0.4em;background-color: white;}#sk-container-id-3 div.sk-label label {font-family: monospace;font-weight: bold;display: inline-block;line-height: 1.2em;}#sk-container-id-3 div.sk-label-container {text-align: center;}#sk-container-id-3 div.sk-container {/* jupyter's `normalize.less` sets `[hidden] { display: none; }` but bootstrap.min.css set `[hidden] { display: none !important; }` so we also need the `!important` here to be able to override the default hidden behavior on the sphinx rendered scikit-learn.org. See: https://github.com/scikit-learn/scikit-learn/issues/21755 */display: inline-block !important;position: relative;}#sk-container-id-3 div.sk-text-repr-fallback {display: none;}</style><div id=\"sk-container-id-3\" class=\"sk-top-container\"><div class=\"sk-text-repr-fallback\"><pre>KNeighborsClassifier(n_neighbors=3)</pre><b>In a Jupyter environment, please rerun this cell to show the HTML representation or trust the notebook. <br />On GitHub, the HTML representation is unable to render, please try loading this page with nbviewer.org.</b></div><div class=\"sk-container\" hidden><div class=\"sk-item\"><div class=\"sk-estimator sk-toggleable\"><input class=\"sk-toggleable__control sk-hidden--visually\" id=\"sk-estimator-id-3\" type=\"checkbox\" checked><label for=\"sk-estimator-id-3\" class=\"sk-toggleable__label sk-toggleable__label-arrow\">KNeighborsClassifier</label><div class=\"sk-toggleable__content\"><pre>KNeighborsClassifier(n_neighbors=3)</pre></div></div></div></div></div>"
      ],
      "text/plain": [
       "KNeighborsClassifier(n_neighbors=3)"
      ]
     },
     "execution_count": 18,
     "metadata": {},
     "output_type": "execute_result"
    }
   ],
   "source": [
    "knn=KNeighborsClassifier(3)     #Creating KNeighborsClassifier object with nearest neighbors=3\n",
    "knn.fit(X_train1,Y_train)       #fitting training data to the knn"
   ]
  },
  {
   "cell_type": "markdown",
   "metadata": {},
   "source": [
    "A6. Test the accuracy of the kNNusing the test set obtained from above exercise."
   ]
  },
  {
   "cell_type": "code",
   "execution_count": 19,
   "metadata": {},
   "outputs": [
    {
     "data": {
      "text/plain": [
       "1.0"
      ]
     },
     "execution_count": 19,
     "metadata": {},
     "output_type": "execute_result"
    }
   ],
   "source": [
    "knn.score(X_test1,Y_test)       #model accuracy"
   ]
  },
  {
   "cell_type": "markdown",
   "metadata": {},
   "source": [
    "A7. Use the predict() function to study the prediction behavior of the classifier for test vectors"
   ]
  },
  {
   "cell_type": "code",
   "execution_count": 20,
   "metadata": {},
   "outputs": [
    {
     "data": {
      "text/plain": [
       "array([1, 0, 1, 1, 1, 0, 1, 1, 1, 1, 1, 0, 1, 0, 1, 1, 1, 1])"
      ]
     },
     "execution_count": 20,
     "metadata": {},
     "output_type": "execute_result"
    }
   ],
   "source": [
    "knn.predict(X_test1)        #model prediction for the test data"
   ]
  },
  {
   "cell_type": "markdown",
   "metadata": {},
   "source": [
    "A8. Make k = 1 to implement NN classifier and compare the results with kNN (k = 3). Vary k from 1 to 11 and make an accuracy plot."
   ]
  },
  {
   "cell_type": "code",
   "execution_count": 30,
   "metadata": {},
   "outputs": [
    {
     "data": {
      "image/png": "[encoded data removed]",
      "text/plain": [
       "<Figure size 640x480 with 1 Axes>"
      ]
     },
     "metadata": {},
     "output_type": "display_data"
    }
   ],
   "source": [
    "accuracies = []\n",
    "for k in range(1, 12):      ##Checking the model performance with varying k values between 1 to 12\n",
    "    knn = KNeighborsClassifier(n_neighbors=k)\n",
    "    knn.fit(X_train1, Y_train)\n",
    "    accuracy = knn.score(X_test1, Y_test)\n",
    "    accuracies.append(accuracy)\n",
    "\n",
    "plt.plot(range(1, 12), accuracies)\n",
    "plt.xlabel('k')\n",
    "plt.ylabel('Accuracy')\n",
    "plt.title('Accuracy vs. k')\n",
    "plt.show()"
   ]
  },
  {
   "cell_type": "markdown",
   "metadata": {},
   "source": [
    "A9. Please evaluate confusion matrix for your classification problem. From confusion matrix, the other performance metrics such as precision, recall and F1-Score measures for both training and test data. Based on your observations, infer the models learning outcome (underfit / regularfit / overfit)."
   ]
  },
  {
   "cell_type": "code",
   "execution_count": 33,
   "metadata": {},
   "outputs": [
    {
     "name": "stdout",
     "output_type": "stream",
     "text": [
      "Confusion Matrix for Training Data:\n",
      "[[ 684    0]\n",
      " [   0 1098]]\n",
      "Confusion Matrix for Test Data:\n",
      "[[ 4  0]\n",
      " [ 0 14]]\n",
      "Precision for Training Data: [1. 1.]\n",
      "Precision for Test Data: [1. 1.]\n",
      "Recall for Training Data: [1. 1.]\n",
      "Recall for Test Data: [1. 1.]\n",
      "F1-score for Training Data: [1. 1.]\n",
      "F1-score for Test Data: [1. 1.]\n"
     ]
    }
   ],
   "source": [
    "from sklearn.metrics import confusion_matrix, precision_score, recall_score, f1_score\n",
    "\n",
    "#model prediction\n",
    "train_predictions = knn.predict(X_train1)\n",
    "test_predictions = knn.predict(X_test1)\n",
    "\n",
    "#Training data confusion matrix\n",
    "train_conf_matrix = confusion_matrix(Y_train, train_predictions)\n",
    "print(\"Confusion Matrix for Training Data:\")\n",
    "print(train_conf_matrix)\n",
    "\n",
    "#Testing data confusion matrix\n",
    "test_conf_matrix = confusion_matrix(Y_test, test_predictions)\n",
    "print(\"Confusion Matrix for Test Data:\")\n",
    "print(test_conf_matrix)\n",
    "\n",
    "#precision\n",
    "train_precision = precision_score(Y_train, train_predictions, average=None)\n",
    "print(\"Precision for Training Data:\", train_precision)\n",
    "test_precision = precision_score(Y_test, test_predictions, average=None)\n",
    "print(\"Precision for Test Data:\", test_precision)\n",
    "\n",
    "#Recall\n",
    "train_recall = recall_score(Y_train, train_predictions, average=None)\n",
    "print(\"Recall for Training Data:\", train_recall)\n",
    "test_recall = recall_score(Y_test, test_predictions, average=None)\n",
    "print(\"Recall for Test Data:\", test_recall)\n",
    "\n",
    "#f1 score\n",
    "train_f1 = f1_score(Y_train, train_predictions, average=None)\n",
    "print(\"F1-score for Training Data:\", train_f1)\n",
    "test_f1 = f1_score(Y_test, test_predictions, average=None)\n",
    "print(\"F1-score for Test Data:\", test_f1)"
   ]
  }
 ],
 "metadata": {
  "kernelspec": {
   "display_name": "Python 3",
   "language": "python",
   "name": "python3"
  },
  "language_info": {
   "codemirror_mode": {
    "name": "ipython",
    "version": 3
   },
   "file_extension": ".py",
   "mimetype": "text/x-python",
   "name": "python",
   "nbconvert_exporter": "python",
   "pygments_lexer": "ipython3",
   "version": "3.11.4"
  }
 },
 "nbformat": 4,
 "nbformat_minor": 2
}
