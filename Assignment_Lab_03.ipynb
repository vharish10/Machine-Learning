{
 "cells": [
  {
   "cell_type": "markdown",
   "metadata": {},
   "source": [
    "V.Harish\n",
    "AIE22063\n",
    "Lab Assignment 3(13/02/2024)"
   ]
  },
  {
   "cell_type": "markdown",
   "metadata": {},
   "source": [
    "A1. Please refer to the “Purchase Data” worksheet of Lab Session1 Data.xlsx. Please load the data \n",
    "and segregate them into 2 matrices A & C (following the nomenclature of AX = C). Do the following \n",
    "activities"
   ]
  },
  {
   "cell_type": "code",
   "execution_count": 4,
   "metadata": {},
   "outputs": [
    {
     "name": "stdout",
     "output_type": "stream",
     "text": [
      "  Customer  Candies (#)  Mangoes (Kg)  Milk Packets (#)  Payment (Rs)\n",
      "0      C_1           20             6                 2           386\n",
      "1      C_2           16             3                 6           289\n",
      "2      C_3           27             6                 2           393\n",
      "3      C_4           19             1                 2           110\n",
      "4      C_5           24             4                 2           280\n",
      "5      C_6           22             1                 5           167\n",
      "6      C_7           15             4                 2           271\n",
      "7      C_8           18             4                 2           274\n",
      "8      C_9           21             1                 4           148\n",
      "9     C_10           16             2                 4           198\n"
     ]
    }
   ],
   "source": [
    "import pandas as pd\n",
    "df=pd.read_excel(\"C:\\\\Users\\\\HarishVReddy\\\\Downloads\\\\Lab Session1 Data.xlsx\")      #reading excel file\n",
    "print(df.iloc[:,:5])"
   ]
  },
  {
   "cell_type": "code",
   "execution_count": 5,
   "metadata": {},
   "outputs": [
    {
     "name": "stdout",
     "output_type": "stream",
     "text": [
      "   Candies (#)  Mangoes (Kg)  Milk Packets (#)\n",
      "0           20             6                 2\n",
      "1           16             3                 6\n",
      "2           27             6                 2\n",
      "3           19             1                 2\n",
      "4           24             4                 2\n",
      "5           22             1                 5\n",
      "6           15             4                 2\n",
      "7           18             4                 2\n",
      "8           21             1                 4\n",
      "9           16             2                 4\n",
      "   Payment (Rs)\n",
      "0           386\n",
      "1           289\n",
      "2           393\n",
      "3           110\n",
      "4           280\n",
      "5           167\n",
      "6           271\n",
      "7           274\n",
      "8           148\n",
      "9           198\n"
     ]
    }
   ],
   "source": [
    "A=df.iloc[:,1:4]        #extracting required data\n",
    "C=df.iloc[:,4:5]        #extracting required data\n",
    "print(A)\n",
    "print(C)"
   ]
  },
  {
   "cell_type": "markdown",
   "metadata": {},
   "source": [
    "A.What is the dimensionality of the vector space for this data?"
   ]
  },
  {
   "cell_type": "code",
   "execution_count": 7,
   "metadata": {},
   "outputs": [
    {
     "name": "stdout",
     "output_type": "stream",
     "text": [
      "Dimensionality: 3\n"
     ]
    }
   ],
   "source": [
    "print(\"Dimensionality:\",A.shape[1])     #number of features "
   ]
  },
  {
   "cell_type": "markdown",
   "metadata": {},
   "source": [
    "B.How many vectors exist in this vector space?"
   ]
  },
  {
   "cell_type": "code",
   "execution_count": 8,
   "metadata": {},
   "outputs": [
    {
     "name": "stdout",
     "output_type": "stream",
     "text": [
      "Vectors in the vector space: 10\n"
     ]
    }
   ],
   "source": [
    "print(\"Vectors in the vector space:\",A.shape[0])        #number of examples"
   ]
  },
  {
   "cell_type": "markdown",
   "metadata": {},
   "source": [
    "C.What is the rank of Matrix A?"
   ]
  },
  {
   "cell_type": "code",
   "execution_count": 9,
   "metadata": {},
   "outputs": [
    {
     "name": "stdout",
     "output_type": "stream",
     "text": [
      "Rank of Matrix A: 3\n"
     ]
    }
   ],
   "source": [
    "from numpy.linalg import matrix_rank\n",
    "print(\"Rank of Matrix A:\",matrix_rank(A))       #rank"
   ]
  },
  {
   "cell_type": "markdown",
   "metadata": {},
   "source": [
    "D. Using Pseudo-Inverse find the cost of each product available for sale. \n",
    "(Suggestion: If you use Python, you can use numpy.linalg.pinv() function to get a \n",
    "pseudo-inverse.)"
   ]
  },
  {
   "cell_type": "code",
   "execution_count": 10,
   "metadata": {},
   "outputs": [
    {
     "name": "stdout",
     "output_type": "stream",
     "text": [
      "[[-0.01008596 -0.03124505  0.01013951  0.0290728   0.0182907   0.01161794\n",
      "  -0.00771348  0.00095458  0.01743623 -0.00542016]\n",
      " [ 0.09059668  0.07263726  0.03172933 -0.09071908 -0.01893196 -0.06926996\n",
      "   0.05675464  0.03152577 -0.07641966  0.00357352]\n",
      " [ 0.00299878  0.15874243 -0.05795468 -0.06609024 -0.06295043  0.03348017\n",
      "   0.01541831 -0.01070461  0.00029003  0.05938755]]\n"
     ]
    }
   ],
   "source": [
    "from numpy.linalg import pinv\n",
    "Ainv=pinv(A, rcond=1e-15, hermitian=False)      #Matrix A is non-square matrix,so pinv is used\n",
    "print(Ainv)"
   ]
  },
  {
   "cell_type": "markdown",
   "metadata": {},
   "source": [
    "A2. Use the Pseudo-inverse to calculate the model vector X for predicting the cost of the products \n",
    "available with the vendor."
   ]
  },
  {
   "cell_type": "code",
   "execution_count": 11,
   "metadata": {},
   "outputs": [
    {
     "name": "stdout",
     "output_type": "stream",
     "text": [
      "X: [[ 1.]\n",
      " [55.]\n",
      " [18.]]\n"
     ]
    }
   ],
   "source": [
    "import numpy as np\n",
    "print(\"X:\",np.dot(Ainv,C))      #AX=C --> X=pinv(A).C"
   ]
  },
  {
   "cell_type": "markdown",
   "metadata": {},
   "source": [
    "A3. Mark all customers (in “Purchase Data” table) with payments above Rs. 200 as RICH and others \n",
    "as POOR. Develop a classifier model to categorize customers into RICH or POOR class based on \n",
    "purchase behavior."
   ]
  },
  {
   "cell_type": "code",
   "execution_count": 12,
   "metadata": {},
   "outputs": [
    {
     "name": "stdout",
     "output_type": "stream",
     "text": [
      "0    Rich\n",
      "1    Rich\n",
      "2    Rich\n",
      "3    Poor\n",
      "4    Rich\n",
      "5    Poor\n",
      "6    Rich\n",
      "7    Rich\n",
      "8    Poor\n",
      "9    Poor\n",
      "Name: Category, dtype: object\n"
     ]
    }
   ],
   "source": [
    "df['Category'] = ['Rich' if payment > 200 else 'Poor' for payment in df['Payment (Rs)']]        #categorising 'Rich' or 'Poor' based on payment\n",
    "print(df[\"Category\"])"
   ]
  },
  {
   "cell_type": "markdown",
   "metadata": {},
   "source": [
    "A4. Please refer to the data present in “IRCTC Stock Price” data sheet of the above excel file. Do the \n",
    "following after loading the data to your programming platform."
   ]
  },
  {
   "cell_type": "code",
   "execution_count": 13,
   "metadata": {},
   "outputs": [
    {
     "name": "stdout",
     "output_type": "stream",
     "text": [
      "             Date Month  Day    Price     Open     High      Low   Volume  \\\n",
      "0    Jun 29, 2021   Jun  Tue  2081.85  2092.00  2126.90  2065.05    1.67M   \n",
      "1    Jun 28, 2021   Jun  Mon  2077.75  2084.00  2112.45  2068.40  707.73K   \n",
      "2    Jun 25, 2021   Jun  Fri  2068.85  2084.35  2088.50  2053.10  475.82K   \n",
      "3    Jun 24, 2021   Jun  Thu  2072.95  2098.00  2098.00  2066.00  541.51K   \n",
      "4    Jun 23, 2021   Jun  Wed  2078.25  2102.00  2111.40  2072.00  809.62K   \n",
      "..            ...   ...  ...      ...      ...      ...      ...      ...   \n",
      "244  Jul 07, 2020   Jul  Tue  1397.40  1410.00  1411.00  1390.05  480.21K   \n",
      "245  Jul 06, 2020   Jul  Mon  1400.75  1405.50  1415.50  1394.00  614.93K   \n",
      "246  Jul 03, 2020   Jul  Fri  1405.10  1415.00  1425.00  1398.00  599.49K   \n",
      "247  Jul 02, 2020   Jul  Thu  1412.35  1440.00  1467.80  1395.30    2.16M   \n",
      "248  Jul 01, 2020   Jul  Wed  1363.05  1363.65  1377.00  1356.00  383.00K   \n",
      "\n",
      "       Chg%  \n",
      "0    0.0020  \n",
      "1    0.0043  \n",
      "2   -0.0020  \n",
      "3   -0.0026  \n",
      "4   -0.0023  \n",
      "..      ...  \n",
      "244 -0.0024  \n",
      "245 -0.0031  \n",
      "246 -0.0051  \n",
      "247  0.0362  \n",
      "248  0.0032  \n",
      "\n",
      "[249 rows x 9 columns]\n"
     ]
    }
   ],
   "source": [
    "df1=pd.read_excel(\"C:\\\\Users\\\\HarishVReddy\\\\Downloads\\\\Lab Session 2 Data.xlsx\")\n",
    "print(df1.iloc[:250,:9])"
   ]
  },
  {
   "cell_type": "markdown",
   "metadata": {},
   "source": [
    "1.Calculate the mean and variance of the Price data present in column D. \n",
    "(Suggestion: if you use Python, you may use statistics.mean() & statistics.variance() methods)."
   ]
  },
  {
   "cell_type": "code",
   "execution_count": 14,
   "metadata": {},
   "outputs": [
    {
     "name": "stdout",
     "output_type": "stream",
     "text": [
      "Mean of column D 1560.9654618473896\n",
      "Variance of column D 58847.91708859632\n"
     ]
    }
   ],
   "source": [
    "import statistics\n",
    "\n",
    "print(\"Mean of column D\",statistics.mean(df1.iloc[:,4]))        #mean using statistics.mean\n",
    "print(\"Variance of column D\",statistics.variance(df1.iloc[:,4]))        #variance using statistics.variance"
   ]
  },
  {
   "cell_type": "markdown",
   "metadata": {},
   "source": [
    "2.Select the price data for all Wednesdays and calculate the sample mean. Compare the mean \n",
    "with the population mean and note your observations."
   ]
  },
  {
   "cell_type": "code",
   "execution_count": 15,
   "metadata": {},
   "outputs": [
    {
     "name": "stdout",
     "output_type": "stream",
     "text": [
      "Wednesday Mean: 1550.706\n",
      "Population Mean: 1560.663453815261\n"
     ]
    }
   ],
   "source": [
    "wednesday_df = df1[df1['Day'] == 'Wed']     #extracting the data for which day='Wed'\n",
    "wednesday_mean = statistics.mean(wednesday_df['Price'])     #mean of data that has day='Wed'\n",
    "population_mean = statistics.mean(df1['Price'])     #mean of all the data\n",
    "\n",
    "print('Wednesday Mean:', wednesday_mean)\n",
    "print('Population Mean:', population_mean)"
   ]
  },
  {
   "cell_type": "markdown",
   "metadata": {},
   "source": [
    "3.Select the price data for the month of Apr and calculate the sample mean. Compare the \n",
    "mean with the population mean and note your observations."
   ]
  },
  {
   "cell_type": "code",
   "execution_count": 16,
   "metadata": {},
   "outputs": [
    {
     "name": "stdout",
     "output_type": "stream",
     "text": [
      "April Mean: 1698.9526315789474\n",
      "Population Mean: 1560.663453815261\n"
     ]
    }
   ],
   "source": [
    "April_df = df1[df1['Month'] == 'Apr']       #extracting particular data for which month='Apr'\n",
    "April_mean = statistics.mean(April_df['Price'])     #mean of data that has month='April'\n",
    "population_mean = statistics.mean(df1['Price'])     #mean of entire data\n",
    "print('April Mean:', April_mean)\n",
    "print('Population Mean:', population_mean)"
   ]
  },
  {
   "cell_type": "markdown",
   "metadata": {},
   "source": [
    "4.From the Chg% (available in column I) find the probability of making a loss over the stock. \n",
    "(Suggestion: use lambda function to find negative values)"
   ]
  },
  {
   "cell_type": "code",
   "execution_count": 17,
   "metadata": {},
   "outputs": [
    {
     "name": "stdout",
     "output_type": "stream",
     "text": [
      "Probability: 50.20080321285141%\n"
     ]
    }
   ],
   "source": [
    "l2 = list(map(lambda v: v < 0, df1['Chg%']))        #lambda function to check if the value in the 'Chg%' column is less than 0 \n",
    "l2_false = [value for value in l2 if value is False]        #sorting to get only the false values\n",
    "negative_probability = (len(l2_false) / len(l2))*100         #probability of negative values\n",
    "print(f'Probability: {negative_probability}%')"
   ]
  },
  {
   "cell_type": "markdown",
   "metadata": {},
   "source": [
    "5.Calculate the probability of making a profit on Wednesday.\n",
    "Calculate the conditional probability of making profit, given that today is Wednesday"
   ]
  },
  {
   "cell_type": "code",
   "execution_count": 18,
   "metadata": {},
   "outputs": [
    {
     "name": "stdout",
     "output_type": "stream",
     "text": [
      "profits on wednesday: 42.0%\n",
      "conditional probability: 0.84%\n"
     ]
    }
   ],
   "source": [
    "l3 = list(map(lambda v: v > 0, wednesday_df['Chg%']))       #lambda function to check if the value in the 'Chg%' column is greater than 0 \n",
    "l3_True = [value for value in l3 if value is True]          #sorting to get only the true values\n",
    "\n",
    "positive_probability = (len(l3_True) / len(l3))*100              #probability of positive changes\n",
    "conditional_prob = positive_probability / wednesday_df.shape[0]\n",
    "\n",
    "print(f'profits on wednesday: {positive_probability}%')\n",
    "print(f'conditional probability: {conditional_prob}%')"
   ]
  },
  {
   "cell_type": "markdown",
   "metadata": {},
   "source": [
    "6.Make a scatter plot of Chg% data against the day of the week"
   ]
  },
  {
   "cell_type": "code",
   "execution_count": 19,
   "metadata": {},
   "outputs": [
    {
     "data": {
      "image/png": "[encoded data removed]",
      "text/plain": [
       "<Figure size 640x480 with 1 Axes>"
      ]
     },
     "metadata": {},
     "output_type": "display_data"
    }
   ],
   "source": [
    "import seaborn as sns\n",
    "import matplotlib.pyplot as plt\n",
    "\n",
    "sns.scatterplot(x='Day', y='Chg%', data=df1)        #scatter plot of 'Chg%' data against the day of the week\n",
    "plt.show()"
   ]
  }
 ],
 "metadata": {
  "kernelspec": {
   "display_name": ".venv",
   "language": "python",
   "name": "python3"
  },
  "language_info": {
   "codemirror_mode": {
    "name": "ipython",
    "version": 3
   },
   "file_extension": ".py",
   "mimetype": "text/x-python",
   "name": "python",
   "nbconvert_exporter": "python",
   "pygments_lexer": "ipython3",
   "version": "3.11.4"
  }
 },
 "nbformat": 4,
 "nbformat_minor": 2
}
